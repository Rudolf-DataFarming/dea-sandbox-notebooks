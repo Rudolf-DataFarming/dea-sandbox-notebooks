{
 "cells": [
  {
   "cell_type": "markdown",
   "metadata": {},
   "source": [
    "# FrontierSI's Digital Earth Australia Sandbox\n",
    "\n",
    "Welcome to FrontierSI’s Digital Earth Australia (DEA) Sandbox. Here you can access an instance of the Open Data Cube (ODC) that has data indexed and ready to go. This sandbox utilises data products that Geoscience Australia have made available on their public S3 storage. Those who code in Python and want to explore the potential of DEA products using the ODC can use this space to explore its use. And for the novice users we've developed prototype apps that allow you to explore any location in Australia in a simple way.\n",
    "\n",
    "The apps that have been prepared utilise the ODC, which is an open source library that provides an integrated gridded data analysis environment capable of delivering decades of analysis ready earth observation satellite and related data from multiple satellite and other acquisition systems.\n",
    "\n",
    "The ODC manual can be found at http://datacube-core.readthedocs.io/en/latest/.\n",
    "\n",
    "#### To use the notebook ->  Click your mouse the cell below, and push ctrl+enter, or click the run button from the toolbox above."
   ]
  },
  {
   "cell_type": "code",
   "execution_count": 1,
   "metadata": {},
   "outputs": [],
   "source": [
    "%store -r"
   ]
  },
  {
   "cell_type": "markdown",
   "metadata": {},
   "source": [
    "You have just installed our apps. In our app workflow, the first step is to select a case-study area. This app will compile a table of what data products are available over an area and for what timesteps.\n",
    "\n",
    "If you're familiar with Google Maps then this app will be easy to master, zoom in and out using the (+|-) buttons, once you've navigated to an area of interest.\n",
    "\n",
    "Please use the pan and zoom tools to find an area of interest and then select the rectangle draw tool from the toolbox panel and draw a rectangle over your desired case-study. You will then see a table of what products are available and for what dates.\n",
    "\n",
    "_Note that you should select a reasonably small area, otherwise it will take a long time to load._\n",
    "\n",
    "## Define an area of interest\n",
    "\n",
    "To define your area of interest in space and time, do the following:\n",
    "\n",
    "* Click your mouse the cell below, and push ctrl+enter, or click the run button from the toolbox above.\n",
    "* Pan and zoom until you have found an area of interest. Use the drawing tools on the left of the map to draw an outline of your area of interest\n",
    "* Click back on the first point of your area of interest to finish drawing\n",
    "* Select a date range for satellite data using the blue slider. This will determine how much data will be loaded for your case study"
   ]
  },
  {
   "cell_type": "code",
   "execution_count": 2,
   "metadata": {},
   "outputs": [
    {
     "ename": "NameError",
     "evalue": "name 'select_case_study_area' is not defined",
     "output_type": "error",
     "traceback": [
      "\u001b[0;31m---------------------------------------------------------------------------\u001b[0m",
      "\u001b[0;31mNameError\u001b[0m                                 Traceback (most recent call last)",
      "\u001b[0;32m<ipython-input-2-6bf64e35c5ad>\u001b[0m in \u001b[0;36m<module>\u001b[0;34m()\u001b[0m\n\u001b[0;32m----> 1\u001b[0;31m \u001b[0mselect_case_study_area\u001b[0m\u001b[0;34m\u001b[0m\u001b[0m\n\u001b[0m",
      "\u001b[0;31mNameError\u001b[0m: name 'select_case_study_area' is not defined"
     ]
    }
   ],
   "source": [
    "select_case_study_area"
   ]
  },
  {
   "cell_type": "markdown",
   "metadata": {},
   "source": [
    "You can use any of our apps to explore the area by just typing any of the commands in bold in a juptyter notebook cell.\n",
    "\n",
    "-  ### [sentinel_band_indices_app](Sentinel_2_Product_Page)\n",
    "Enables querying the s2a_nrt_granule and s2b_nrt_granule products with points/polygons, and visualising band indices derived from sentinel products using line graphs. \n",
    "   \n",
    "#### For more information check out the sentintel product page we've made for it by clicking here. [Sentinel_Product Page](Sentinel_2_Product_Page).\n",
    "\n",
    "-  ### [geomedian_landsat8_band_indices_app](Geomedian_Product_Page.ipynb)\n",
    "Enables querying the ls8_nbart_geomedian_annual products with points/polygons, and visualising band indices derived from landsat 8 products. \n",
    "   \n",
    "#### For more information check out the geomedian product page we've made for it by clicking here. [Geomedian Product Page](Geomedian_Product_Page.ipynb)\n",
    "\n",
    "-  ### [geomedian_landsat7_band_indices_app](Geomedian_Product_Page.ipynb)\n",
    "Enables querying the ls7_nbart_geomedian_annual products with points/polygons, and visualising band indices derived from landsat 7 products. \n",
    "   \n",
    "#### For more information check out the geomedian product page we've made for it by clicking here. [Geomedian Product Page](Geomedian_Product_Page.ipynb)\n",
    "\n",
    "-  ### [geomedian_landsat5_band_indices_app](Geomedian_Product_Page.ipynb)\n",
    "Enables querying the ls5_nbart_geomedian_annual products with points/polygons, and visualising band indices derived from landsat 5 products. \n",
    "   \n",
    "#### For more information check out the geomedian product page we've made for it by clicking here. [Geomedian Product Page](Geomedian_Product_Page.ipynb)\n",
    "\n",
    "-  ### [fractional_cover_stack_plot_app](Fractional_Cover_Product_Page.ipynb)\n",
    "Enables querying the ls8_fc_albers and wofs_albers products with points/polygons, and visualising landcover derived from landsat 8. \n",
    "   \n",
    "#### For more information check out the fractional product page we've made for it by clicking here. [Fractional Cover Product Page](Fractional_Cover_Product_Page.ipynb)\n",
    "\n",
    "-  ### [fractional_cover_line_plot_app](Fractional_Cover_Product_Page.ipynb)\n",
    "Enables querying the ls8_fc_albers and wofs_albers products with points/polygons, and visualising landcover derived from landsat 8. \n",
    "   \n",
    "#### For more information check out the fractional product page we've made for it by clicking here. [Fractional Cover Product Page](Fractional_Cover_Product_Page.ipynb)\n"
   ]
  },
  {
   "cell_type": "markdown",
   "metadata": {},
   "source": [
    "## Case Studies.\n",
    "\n",
    "We've prepared the following case studies to demonstrate how these apps could be used for agriculture and mining.\n",
    "\n",
    "-  ## [Agriculture Case Study](agriculture_case_study.ipynb)\n",
    "-  ## [Mining Case Study](mining_example.ipynb)"
   ]
  },
  {
   "cell_type": "markdown",
   "metadata": {},
   "source": [
    "### Test it out apps with the following cells."
   ]
  },
  {
   "cell_type": "code",
   "execution_count": 4,
   "metadata": {},
   "outputs": [
    {
     "name": "stdout",
     "output_type": "stream",
     "text": [
      "Populating the interactive namespace from numpy and matplotlib\n"
     ]
    },
    {
     "data": {
      "application/vnd.jupyter.widget-view+json": {
       "model_id": "0ec2a11b1bf243ea8f5d9ef8df457516",
       "version_major": 2,
       "version_minor": 0
      },
      "text/plain": [
       "VBox(children=(Output(layout=Layout(border='1px solid black')), ToggleButtons(description='Product:', options=…"
      ]
     },
     "metadata": {},
     "output_type": "display_data"
    }
   ],
   "source": [
    "sentinel_band_indices_app"
   ]
  },
  {
   "cell_type": "code",
   "execution_count": null,
   "metadata": {},
   "outputs": [],
   "source": [
    "geomedian_landsat8_band_indices_app"
   ]
  },
  {
   "cell_type": "code",
   "execution_count": null,
   "metadata": {},
   "outputs": [],
   "source": [
    "fractional_cover_stack_plot_app"
   ]
  }
 ],
 "metadata": {
  "kernelspec": {
   "display_name": "Python 3",
   "language": "python",
   "name": "python3"
  },
  "language_info": {
   "codemirror_mode": {
    "name": "ipython",
    "version": 3
   },
   "file_extension": ".py",
   "mimetype": "text/x-python",
   "name": "python",
   "nbconvert_exporter": "python",
   "pygments_lexer": "ipython3",
   "version": "3.6.5"
  }
 },
 "nbformat": 4,
 "nbformat_minor": 2
}
