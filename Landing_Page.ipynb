{
 "cells": [
  {
   "cell_type": "markdown",
   "metadata": {},
   "source": [
    "# FrontierSI's Open Data Cube Sandbox\n",
    "\n",
    "Welcome to FrontierSI’s ODC Sandbox. Here you can access an instance of the Open Data Cube (ODC) that has data indexed and ready to go. This sandbox utilises data products available on s3 AWS pds-bucket (https://docs.opendata.aws/landsat-pds/readme.html). \n",
    "\n",
    "#### Scenes indexed in yellow.\n",
    "<img src=\"images/indexed_areas.png\">\n",
    "\n",
    "\n",
    "Those who code in Python can use this space to explore using the ODC api to interact with indexed products and the potential of accessing earth observation data on demand. \n",
    "\n",
    "And for the novice users we've developed prototype apps that allow you to explore any location in thw world in a simple way graphical user interface that is called using macro commands - read on.\n",
    "\n",
    "#### ODC\n",
    "\n",
    "The [OpenDataCube](https://github.com/opendatacube) (ODC) provides an integrated gridded data analysis environment capable of delivering decades of analysis ready earth observation satellite and related data from multiple satellite and other acquisition systems. \n",
    "\n",
    "The ODC initiative seeks to increase the value and impact of global Earth obervation satellite data by providing an open and freely accessible exploitation archectecture and to foster a community to develop, sustain, and grow the techonology and the breadth and depth of its application. To read more see the [ODC Initiative Whitepaper](https://github.com/opendatacube/documentation/blob/master/Roadmap/ODC%20White%20Paper.md)\n",
    "\n",
    "The ODC manual can be found at http://datacube-core.readthedocs.io/en/latest/.\n",
    "\n",
    "#### To use the notebook ->  Click your mouse onto the cell below, and push ctrl+enter, or click the run button from the toolbox above."
   ]
  },
  {
   "cell_type": "code",
   "execution_count": null,
   "metadata": {},
   "outputs": [],
   "source": [
    "%store -r"
   ]
  },
  {
   "cell_type": "markdown",
   "metadata": {},
   "source": [
    "You have just installed our apps. In our app workflow, the first step is to select a case-study area. This app will compile a table of what data products are available over an area and for what timesteps.\n",
    "\n",
    "If you're familiar with Google Maps then this app will be easy to master, zoom in and out using the (+|-) buttons, once you've navigated to an area of interest.\n",
    "\n",
    "Please use the pan and zoom tools to find an area of interest and then select the rectangle draw tool from the toolbox panel and draw a rectangle over your desired case-study. You will then see a table of what products are available and for what dates.\n",
    "\n",
    "_Note that you should select a reasonably small area, otherwise it will take a long time to load._\n",
    "\n",
    "## Define an area of interest\n",
    "\n",
    "To define your area of interest in space and time, do the following:\n",
    "\n",
    "* Click your mouse the cell below, and push ctrl+enter, or click the run button from the toolbox above.\n",
    "* Pan and zoom until you have found an area of interest. Use the drawing tools on the left of the map to draw an outline of your area of interest\n",
    "* Click back on the first point of your area of interest to finish drawing\n",
    "* Select a date range for satellite data using the blue slider. This will determine how much data will be loaded for your case study"
   ]
  },
  {
   "cell_type": "code",
   "execution_count": null,
   "metadata": {},
   "outputs": [],
   "source": [
    "select_case_study_area"
   ]
  },
  {
   "cell_type": "markdown",
   "metadata": {},
   "source": [
    "\n",
    "<style>\n",
    "  table {margin-left: 0 !important;}\n",
    "</style>\n",
    "You can use any of our apps to explore the area by just typing any of the paragraph heading in a juptyter notebook cell.\n",
    "\n",
    "|App|Description|Data Product|\n",
    "|----|:-----|----|\n",
    "|`band_indices_aws_landsat8`|Enables querying the aws landsat 8 product with points/polygons, and visualising responses as band indices derived on line graphs.|\n",
    "|`water_stackplot_aws_landsat8`|Enables querying the aws landsat 8 product with points/polygons and classifier landsat cells that water.  \n"
   ]
  },
  {
   "cell_type": "markdown",
   "metadata": {},
   "source": [
    "## [Basic ODC Functionality](Basic_Functionality.ipynb)\n",
    "\n",
    "The [Basic ODF Functionality](Basic_Functionality.ipynb) notebook runs through the data load command, the datacube paradigm and generating cloud free time slice visualisations and interogating a single pixel over a time span.\n",
    "\n",
    "\n",
    "## Case Studies.\n",
    "\n",
    "We've prepared the following case studies to demonstrate how these apps could be used for agriculture and mining.\n",
    "\n",
    "-  ## [Agriculture Case Study](casestudy_agriculture.ipynb)\n",
    "-  ## [Urbanisation Case Study](casestudy_mining.ipynb)"
   ]
  },
  {
   "cell_type": "markdown",
   "metadata": {},
   "source": [
    "### Test it out apps with the following cells."
   ]
  },
  {
   "cell_type": "code",
   "execution_count": null,
   "metadata": {
    "scrolled": false
   },
   "outputs": [],
   "source": [
    "band_indices_aws_landsat8"
   ]
  },
  {
   "cell_type": "code",
   "execution_count": null,
   "metadata": {
    "scrolled": false
   },
   "outputs": [],
   "source": [
    "water_stackplot_aws_landsat8"
   ]
  }
 ],
 "metadata": {
  "kernelspec": {
   "display_name": "Python 3",
   "language": "python",
   "name": "python3"
  },
  "language_info": {
   "codemirror_mode": {
    "name": "ipython",
    "version": 3
   },
   "file_extension": ".py",
   "mimetype": "text/x-python",
   "name": "python",
   "nbconvert_exporter": "python",
   "pygments_lexer": "ipython3",
   "version": "3.6.5"
  }
 },
 "nbformat": 4,
 "nbformat_minor": 2
}
