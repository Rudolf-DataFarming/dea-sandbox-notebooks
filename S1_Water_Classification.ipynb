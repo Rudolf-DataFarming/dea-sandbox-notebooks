{
 "cells": [
  {
   "cell_type": "markdown",
   "metadata": {},
   "source": [
    "# The Process\n",
    "\n",
    "### loading data from the datacube\n",
    "- Pick Area\n",
    "- Browse inventory of available products for sentinel1\n",
    "- Load sentinel 1 data over area\n",
    "\n",
    "### pre-process imagery\n",
    "- Visualize VV and VH bands\n",
    "- Apply Filter to remove noise\n",
    "- Visualize filtered VV and VH bands\n",
    "\n",
    "### classify  \n",
    "- Design classifier based on interpretation of histograms  \n",
    "- Apply classifier \n",
    "- Visualize:\n",
    "       - yearly classification frequencies\n",
    "       - yearly classification variance  \n",
    "\n",
    "### change detection  \n",
    "- difference between two classifications, `t1` and `t2`   \n",
    "- exploring autocorrelation to separate noise from change"
   ]
  },
  {
   "cell_type": "markdown",
   "metadata": {},
   "source": [
    "# The Area"
   ]
  },
  {
   "cell_type": "code",
   "execution_count": null,
   "metadata": {},
   "outputs": [],
   "source": [
    "latitude= (-11.287611, -11.085876)\n",
    "longitude = (130.324262, 130.452652)"
   ]
  },
  {
   "cell_type": "code",
   "execution_count": null,
   "metadata": {},
   "outputs": [],
   "source": [
    "from utils.display import display_map\n",
    "display_map(latitude = latitude, longitude = longitude)"
   ]
  },
  {
   "cell_type": "markdown",
   "metadata": {},
   "source": [
    "# Provisioning Data"
   ]
  },
  {
   "cell_type": "markdown",
   "metadata": {},
   "source": [
    "### Connect to the Datacube System"
   ]
  },
  {
   "cell_type": "code",
   "execution_count": null,
   "metadata": {},
   "outputs": [],
   "source": [
    "app_name = \"Sentinel 1 Water Classifier\""
   ]
  },
  {
   "cell_type": "code",
   "execution_count": null,
   "metadata": {},
   "outputs": [],
   "source": [
    "import datacube\n",
    "dc = datacube.Datacube(app = app_name)"
   ]
  },
  {
   "cell_type": "markdown",
   "metadata": {},
   "source": [
    "### List Available Products"
   ]
  },
  {
   "cell_type": "code",
   "execution_count": null,
   "metadata": {},
   "outputs": [],
   "source": [
    "dc.list_products()"
   ]
  },
  {
   "cell_type": "markdown",
   "metadata": {},
   "source": [
    "### Specify Product Preferences"
   ]
  },
  {
   "cell_type": "code",
   "execution_count": null,
   "metadata": {},
   "outputs": [],
   "source": [
    "product_preferences = dict(product = \"s1_gamma0_geotif_scene\",\n",
    "                     output_crs = \"EPSG:4326\",\n",
    "                     resolution = (0.00013557119,0.00013557119))"
   ]
  },
  {
   "cell_type": "markdown",
   "metadata": {},
   "source": [
    "### Specify GeoGraphic Extent"
   ]
  },
  {
   "cell_type": "code",
   "execution_count": null,
   "metadata": {},
   "outputs": [],
   "source": [
    "area_preferences = dict(latitude = latitude,\n",
    "                  longitude = longitude) "
   ]
  },
  {
   "cell_type": "markdown",
   "metadata": {},
   "source": [
    "### Load Data"
   ]
  },
  {
   "cell_type": "code",
   "execution_count": null,
   "metadata": {},
   "outputs": [],
   "source": [
    "dataset = dc.load(**product_preferences, **area_preferences)"
   ]
  },
  {
   "cell_type": "code",
   "execution_count": null,
   "metadata": {},
   "outputs": [],
   "source": [
    "dataset"
   ]
  },
  {
   "cell_type": "markdown",
   "metadata": {},
   "source": [
    "### Visualize VH bands"
   ]
  },
  {
   "cell_type": "code",
   "execution_count": null,
   "metadata": {},
   "outputs": [],
   "source": [
    "import matplotlib.pyplot as plt"
   ]
  },
  {
   "cell_type": "code",
   "execution_count": null,
   "metadata": {},
   "outputs": [],
   "source": [
    "%matplotlib inline\n",
    "import numpy as np\n",
    "np.log(dataset.vh).plot(cmap = \"Blues\", col='time',col_wrap=5)"
   ]
  },
  {
   "cell_type": "markdown",
   "metadata": {},
   "source": [
    "> **Yearly Composite VH**"
   ]
  },
  {
   "cell_type": "code",
   "execution_count": null,
   "metadata": {},
   "outputs": [],
   "source": [
    "%matplotlib inline\n",
    "import numpy as np\n",
    "plt.figure(figsize = (15,12))\n",
    "np.log(dataset.vh.mean(dim = \"time\")).plot(cmap = \"Blues\")"
   ]
  },
  {
   "cell_type": "markdown",
   "metadata": {},
   "source": [
    "### Visualize VV bands  "
   ]
  },
  {
   "cell_type": "code",
   "execution_count": null,
   "metadata": {},
   "outputs": [],
   "source": [
    "%matplotlib inline\n",
    "import numpy as np\n",
    "np.log(dataset.vv).plot(cmap = \"Blues\", col='time',col_wrap=5)"
   ]
  },
  {
   "cell_type": "code",
   "execution_count": null,
   "metadata": {},
   "outputs": [],
   "source": [
    "%matplotlib inline\n",
    "import numpy as np\n",
    "plt.figure(figsize = (15,12))\n",
    "np.log(dataset.vv.mean(dim = \"time\")).plot(cmap = \"Blues\")"
   ]
  },
  {
   "cell_type": "markdown",
   "metadata": {},
   "source": [
    "# Image Filtering"
   ]
  },
  {
   "cell_type": "markdown",
   "metadata": {},
   "source": [
    "### Speckle Filtering using Lee Filter"
   ]
  },
  {
   "cell_type": "code",
   "execution_count": null,
   "metadata": {},
   "outputs": [],
   "source": [
    "# Adapted from https://stackoverflow.com/questions/39785970/speckle-lee-filter-in-python\n",
    "\n",
    "from scipy.ndimage.filters import uniform_filter\n",
    "from scipy.ndimage.measurements import variance\n",
    "\n",
    "def lee_filter(da, size):\n",
    "    img = da.values\n",
    "    img_mean = uniform_filter(img, (size, size))\n",
    "    img_sqr_mean = uniform_filter(img**2, (size, size))\n",
    "    img_variance = img_sqr_mean - img_mean**2\n",
    "\n",
    "    overall_variance = variance(img)\n",
    "\n",
    "    img_weights = img_variance / (img_variance + overall_variance)\n",
    "    img_output = img_mean + img_weights * (img - img_mean)\n",
    "    return img_output"
   ]
  },
  {
   "cell_type": "code",
   "execution_count": null,
   "metadata": {},
   "outputs": [],
   "source": [
    "dataset_zero_filled = dataset.where(~dataset.isnull(), 0)"
   ]
  },
  {
   "cell_type": "code",
   "execution_count": null,
   "metadata": {},
   "outputs": [],
   "source": [
    "dataset[\"filtered_vv\"] = dataset_zero_filled.vv.groupby('time').apply(lee_filter, size=7)\n",
    "dataset[\"filtered_vh\"] = dataset_zero_filled.vh.groupby('time').apply(lee_filter, size=7)"
   ]
  },
  {
   "cell_type": "markdown",
   "metadata": {},
   "source": [
    "### VH Filtered"
   ]
  },
  {
   "cell_type": "code",
   "execution_count": null,
   "metadata": {},
   "outputs": [],
   "source": [
    "np.log10(dataset.filtered_vh).plot(cmap = \"Blues\", col='time',col_wrap=5)"
   ]
  },
  {
   "cell_type": "code",
   "execution_count": null,
   "metadata": {},
   "outputs": [],
   "source": [
    "plt.figure(figsize = (15,12))\n",
    "np.log10(dataset.filtered_vh.mean(dim = \"time\")).plot(cmap = \"Blues\")"
   ]
  },
  {
   "cell_type": "markdown",
   "metadata": {},
   "source": [
    "### VV Filtered"
   ]
  },
  {
   "cell_type": "code",
   "execution_count": null,
   "metadata": {},
   "outputs": [],
   "source": [
    "np.log10(dataset.filtered_vv).plot(cmap = \"Blues\", col='time',col_wrap=5)"
   ]
  },
  {
   "cell_type": "code",
   "execution_count": null,
   "metadata": {},
   "outputs": [],
   "source": [
    "plt.figure(figsize = (15,12))\n",
    "np.log10(dataset.filtered_vv.mean(dim = \"time\")).plot(cmap = \"Blues\")"
   ]
  },
  {
   "cell_type": "markdown",
   "metadata": {},
   "source": [
    "### Observing VV and VH histograms"
   ]
  },
  {
   "cell_type": "markdown",
   "metadata": {},
   "source": []
  },
  {
   "cell_type": "code",
   "execution_count": null,
   "metadata": {},
   "outputs": [],
   "source": [
    "fig = plt.figure(figsize = (15,3))\n",
    "_ = np.log10(dataset.filtered_vv).plot.hist(bins = 1000, label = \"VV filtered\")\n",
    "_ = np.log10(dataset.vv).plot.hist(bins = 1000, label = \"VV\", alpha = .5)\n",
    "plt.legend()\n",
    "plt.title(\"Comparison of filtered VV bands to original\") "
   ]
  },
  {
   "cell_type": "code",
   "execution_count": null,
   "metadata": {},
   "outputs": [],
   "source": [
    "fig = plt.figure(figsize = (15,3))\n",
    "_ = np.log10(dataset.filtered_vh).plot.hist(bins = 1000, label = \"VH filtered\")\n",
    "_ = np.log10(dataset.vh).plot.hist(bins = 1000, label = \"VH\", alpha = .5)\n",
    "plt.legend()\n",
    "plt.title(\"Comparison of filtered VH bands to original\") "
   ]
  },
  {
   "cell_type": "markdown",
   "metadata": {},
   "source": [
    "** "
   ]
  },
  {
   "cell_type": "markdown",
   "metadata": {},
   "source": [
    "# Designing a threshold based water classifier"
   ]
  },
  {
   "cell_type": "markdown",
   "metadata": {},
   "source": [
    "A 2d visualization of imagery alone, suggests a stark contrast in `land` and `water` values.    \n",
    "The visualization of the fitlered S1 data highlights a clear bimodal distribution on the `filtered VH` domain.   \n",
    "\n",
    "In this section, a classifier is built based on a static threshold on `filtered_vh` values.  \n",
    "\n",
    "$$ threshold = -2.0 $$"
   ]
  },
  {
   "cell_type": "code",
   "execution_count": null,
   "metadata": {},
   "outputs": [],
   "source": [
    "threshold = -2.0"
   ]
  },
  {
   "cell_type": "markdown",
   "metadata": {},
   "source": [
    "The classifier separates data into two classes, data above, and data below the threshold. An assumption is made that values of both segments correspond to the same `water` and `not water` distinctions we make visually.  \n",
    "\n",
    "\n",
    "<br>  \n",
    "\n",
    "$$  water(Dataset) = \\left\\{\n",
    "     \\begin{array}{lr}\n",
    "       True & :   Dataset_{VH} \\le threshold\\\\\n",
    "       False & :   Dataset_{VH} > threshold\n",
    "     \\end{array}\n",
    "   \\right.\\\\ $$  \n",
    "\n",
    "<br>\n"
   ]
  },
  {
   "cell_type": "markdown",
   "metadata": {},
   "source": [
    "### Visualize threshold"
   ]
  },
  {
   "cell_type": "code",
   "execution_count": null,
   "metadata": {
    "scrolled": false
   },
   "outputs": [],
   "source": [
    "fig = plt.figure(figsize = (15,3))\n",
    "plt.axvline(x=-2, label='Threshold at {}'.format(threshold), color = \"red\")\n",
    "_ = np.log10(dataset.filtered_vh).plot.hist(bins = 1000, label = \"VH filtered\")\n",
    "_ = np.log10(dataset.vh).plot.hist(bins = 1000, label = \"VH\", alpha = .5)\n",
    "plt.legend()\n",
    "plt.title(\"Histogram Comparison of filtered VH bands to original\") "
   ]
  },
  {
   "cell_type": "code",
   "execution_count": null,
   "metadata": {},
   "outputs": [],
   "source": [
    "fig, ax = plt.subplots(figsize = (15,3))\n",
    "_ = np.log10(dataset.filtered_vh).plot.hist(bins = 1000, label = \"VH filtered\")\n",
    "ax.axvspan(xmin=-2,xmax = -.5, alpha=0.25, color='red', label = \"Not Water\")\n",
    "ax.axvspan(xmin=-3.5,xmax = -2, alpha=0.25, color='green', label = \"Water\")\n",
    "plt.legend()\n",
    "plt.title(\"Comparison of filtered VH bands to original\") "
   ]
  },
  {
   "cell_type": "markdown",
   "metadata": {},
   "source": [
    "# Coding the classifier"
   ]
  },
  {
   "cell_type": "code",
   "execution_count": null,
   "metadata": {},
   "outputs": [],
   "source": [
    "import numpy as np\n",
    "import xarray as xr \n",
    "\n",
    "def s1_water_classifier(ds:xr.Dataset, threshold = -2) -> xr.Dataset:\n",
    "    assert \"vh\" in ds.data_vars, \"This classifier is expecting a variable named `vh` expressed in DN, not DB values\"\n",
    "    filtered = ds.vh.groupby('time').apply(lee_filter, size=7)\n",
    "    water_data_array = np.log10(filtered) < threshold\n",
    "    return water_data_array.to_dataset(name = \"s1_wofs\")"
   ]
  },
  {
   "cell_type": "markdown",
   "metadata": {},
   "source": [
    "# Running the classifier"
   ]
  },
  {
   "cell_type": "code",
   "execution_count": null,
   "metadata": {},
   "outputs": [],
   "source": [
    "dataset[\"s1_wofs\"] = s1_water_classifier(dataset).s1_wofs"
   ]
  },
  {
   "cell_type": "markdown",
   "metadata": {},
   "source": [
    "# Validation"
   ]
  },
  {
   "cell_type": "markdown",
   "metadata": {},
   "source": [
    "### Water Classification Frequency"
   ]
  },
  {
   "cell_type": "code",
   "execution_count": null,
   "metadata": {},
   "outputs": [],
   "source": [
    "plt.figure(figsize = (15,12))\n",
    "dataset.s1_wofs.mean(dim = \"time\").plot(cmap = \"jet_r\")"
   ]
  },
  {
   "cell_type": "markdown",
   "metadata": {},
   "source": [
    "> #### Interpretation and Ideas: \n",
    "\n",
    "- There exists fairly consistent classifications inland and off the coasts.  \n",
    "- The coastline in not consitently water.\n",
    "- Check Variance"
   ]
  },
  {
   "cell_type": "markdown",
   "metadata": {},
   "source": [
    "### Water Classification Standard Deviation"
   ]
  },
  {
   "cell_type": "code",
   "execution_count": null,
   "metadata": {},
   "outputs": [],
   "source": [
    "plt.figure(figsize = (15,12))\n",
    "dataset.s1_wofs.std(dim = \"time\").plot(cmap = \"jet\")"
   ]
  },
  {
   "cell_type": "markdown",
   "metadata": {},
   "source": [
    "> #### Interpretation and Ideas: \n",
    "\n",
    "- variance can capture long term trends like coastal erosion or degredation, but may also capture noise.  \n",
    "  take, for example an alternating sequence of classifications $ts_1 = [0,1,0,1,...,0,1, 0, 1]$ and the sequence $ts_2 = [0,0,0,0,...,1,1,1,1]$    \n",
    "  It's safe to assume that $var(ts_1) == var(ts_2)$ despite the fact that one might be frequent alternating changes in state of water, while the later might be lasting transition. \n",
    "  \n",
    "- The coastline is not always consitently water"
   ]
  },
  {
   "cell_type": "markdown",
   "metadata": {},
   "source": [
    "# Detecting Coastal Change "
   ]
  },
  {
   "cell_type": "markdown",
   "metadata": {},
   "source": [
    "### Simple Differencing Approach"
   ]
  },
  {
   "cell_type": "code",
   "execution_count": null,
   "metadata": {},
   "outputs": [],
   "source": [
    "t1 = 0\n",
    "t2 = 26"
   ]
  },
  {
   "cell_type": "code",
   "execution_count": null,
   "metadata": {},
   "outputs": [],
   "source": [
    "change = dataset.s1_wofs.isel(time = t1) - dataset.s1_wofs.isel(time = t2)\n",
    "change = change.where(change != 0) \n",
    "dataset[\"change\"] = change"
   ]
  },
  {
   "cell_type": "code",
   "execution_count": null,
   "metadata": {},
   "outputs": [],
   "source": [
    "plt.figure(figsize = (15,12))\n",
    "dataset.filtered_vh.mean(dim = \"time\").plot(cmap = \"Blues\")\n",
    "dataset.change.plot(cmap = \"jet\", levels = 2) "
   ]
  },
  {
   "cell_type": "markdown",
   "metadata": {},
   "source": [
    "# Auto Correlation"
   ]
  },
  {
   "cell_type": "code",
   "execution_count": null,
   "metadata": {},
   "outputs": [],
   "source": [
    "def rtk(ts:np.array, k = 1):\n",
    "    a = np.append(np.array(ts).copy(),\n",
    "                  np.zeros(k))\n",
    "    \n",
    "    b = np.append(np.zeros(k),\n",
    "                  np.array(ts).copy())\n",
    "    \n",
    "    auto = (a * b)[k:-k]\n",
    "    return np.mean(auto)"
   ]
  },
  {
   "cell_type": "code",
   "execution_count": null,
   "metadata": {},
   "outputs": [],
   "source": [
    "auto_correlation_ds = xr.DataArray(auto_correlation, dims = dict((k, dataset[k].values) for k in ('latitude', 'longitude')))"
   ]
  },
  {
   "cell_type": "code",
   "execution_count": null,
   "metadata": {},
   "outputs": [],
   "source": [
    "auto_correlation = np.apply_along_axis(rtk,0,dataset.s1_wofs)"
   ]
  },
  {
   "cell_type": "code",
   "execution_count": null,
   "metadata": {},
   "outputs": [],
   "source": [
    "auto_correlation_ds = xr.DataArray(auto_correlation, dims = dict((k, dataset[k].values) for k in ('latitude', 'longitude')))"
   ]
  },
  {
   "cell_type": "code",
   "execution_count": null,
   "metadata": {},
   "outputs": [],
   "source": [
    "freq = dataset.s1_wofs.mean(dim = \"time\")\n",
    "varying_pixels = np.logical_and(freq != 0, freq != 1) "
   ]
  },
  {
   "cell_type": "code",
   "execution_count": null,
   "metadata": {
    "scrolled": true
   },
   "outputs": [],
   "source": [
    "fig = plt.figure(figsize = (15,3))\n",
    "_ = auto_correlation_ds.where(varying_pixels).plot.hist(bins = 256)\n",
    "plt.title(\"Histogram of autocorrelation\") \n"
   ]
  },
  {
   "cell_type": "code",
   "execution_count": null,
   "metadata": {},
   "outputs": [],
   "source": [
    "plt.figure(figsize = (15,12))\n",
    "dataset.filtered_vh.mean(dim = \"time\").plot(cmap = \"Blues\")\n",
    "dataset.change.where(auto_correlation_ds > 0.8).plot(cmap = \"jet\", levels = 2)"
   ]
  }
 ],
 "metadata": {
  "kernelspec": {
   "display_name": "Python 3",
   "language": "python",
   "name": "python3"
  },
  "language_info": {
   "codemirror_mode": {
    "name": "ipython",
    "version": 3
   },
   "file_extension": ".py",
   "mimetype": "text/x-python",
   "name": "python",
   "nbconvert_exporter": "python",
   "pygments_lexer": "ipython3",
   "version": "3.6.7"
  }
 },
 "nbformat": 4,
 "nbformat_minor": 2
}
