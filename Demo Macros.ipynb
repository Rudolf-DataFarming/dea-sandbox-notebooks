{
 "cells": [
  {
   "cell_type": "code",
   "execution_count": 1,
   "metadata": {},
   "outputs": [],
   "source": [
    "%store -r"
   ]
  },
  {
   "cell_type": "code",
   "execution_count": 2,
   "metadata": {},
   "outputs": [
    {
     "ename": "NameError",
     "evalue": "name 'load_data_cube' is not defined",
     "output_type": "error",
     "traceback": [
      "\u001b[0;31m---------------------------------------------------------------------------\u001b[0m",
      "\u001b[0;31mNameError\u001b[0m                                 Traceback (most recent call last)",
      "\u001b[0;32m<ipython-input-2-34cfc0caf9a6>\u001b[0m in \u001b[0;36m<module>\u001b[0;34m()\u001b[0m\n\u001b[0;32m----> 1\u001b[0;31m \u001b[0mload_data_cube\u001b[0m\u001b[0;34m\u001b[0m\u001b[0m\n\u001b[0m",
      "\u001b[0;31mNameError\u001b[0m: name 'load_data_cube' is not defined"
     ]
    }
   ],
   "source": [
    "load_data_cube"
   ]
  },
  {
   "cell_type": "code",
   "execution_count": 3,
   "metadata": {},
   "outputs": [
    {
     "ename": "NameError",
     "evalue": "name 'explore_area' is not defined",
     "output_type": "error",
     "traceback": [
      "\u001b[0;31m---------------------------------------------------------------------------\u001b[0m",
      "\u001b[0;31mNameError\u001b[0m                                 Traceback (most recent call last)",
      "\u001b[0;32m<ipython-input-3-b4ee4163e68f>\u001b[0m in \u001b[0;36m<module>\u001b[0;34m()\u001b[0m\n\u001b[0;32m----> 1\u001b[0;31m \u001b[0mexplore_area\u001b[0m\u001b[0;34m\u001b[0m\u001b[0m\n\u001b[0m",
      "\u001b[0;31mNameError\u001b[0m: name 'explore_area' is not defined"
     ]
    }
   ],
   "source": [
    "explore_area"
   ]
  },
  {
   "cell_type": "code",
   "execution_count": 5,
   "metadata": {},
   "outputs": [
    {
     "name": "stdout",
     "output_type": "stream",
     "text": [
      "<xarray.Dataset>\n",
      "Dimensions:  (time: 5, x: 5821, y: 2874)\n",
      "Coordinates:\n",
      "  * time     (time) datetime64[ns] 2013-01-01 2014-01-01 2015-01-01 ...\n",
      "  * y        (y) float64 7.799e+06 7.799e+06 7.799e+06 7.799e+06 7.799e+06 ...\n",
      "  * x        (x) float64 2.92e+05 2.921e+05 2.921e+05 2.921e+05 2.921e+05 ...\n",
      "Data variables:\n",
      "    red      (time, y, x) int16 983 983 1015 1015 1015 1053 1053 1020 1020 ...\n",
      "    green    (time, y, x) int16 756 756 778 778 778 810 810 785 785 785 775 ...\n",
      "    blue     (time, y, x) int16 582 582 595 595 595 620 620 599 599 599 589 ...\n",
      "    nir      (time, y, x) int16 1957 1957 2022 2022 2022 2030 2030 2007 2007 ...\n",
      "    swir1    (time, y, x) int16 3228 3228 3309 3309 3309 3361 3361 3233 3233 ...\n",
      "    swir2    (time, y, x) int16 2105 2105 2166 2166 2166 2233 2233 2197 2197 ...\n",
      "Attributes:\n",
      "    crs:      epsg:32755\n",
      "[{'type': 'Feature', 'properties': {'style': {'stroke': True, 'color': '#3388ff', 'weight': 4, 'opacity': 0.5, 'fill': True, 'fillColor': None, 'fillOpacity': 0.2, 'clickable': True, 'zIndexOffset': 2000, 'icon': {'options': {}, '_initHooksCalled': True}, 'repeatMode': False}, 'datasetID': 0}, 'geometry': {'type': 'Point', 'coordinates': [145.293082, -20.011554]}}, {'type': 'Feature', 'properties': {'style': {'stroke': True, 'color': '#3388ff', 'weight': 4, 'opacity': 0.5, 'fill': True, 'fillColor': None, 'fillOpacity': 0.2, 'clickable': True, 'zIndexOffset': 2000, 'icon': {'options': {}, '_initHooksCalled': True}, 'repeatMode': False}, 'datasetID': 1}, 'geometry': {'type': 'Point', 'coordinates': [145.32002, -20.012796]}}, {'type': 'Feature', 'properties': {'style': {'stroke': True, 'color': '#3388ff', 'weight': 4, 'opacity': 0.5, 'fill': True, 'fillColor': None, 'fillOpacity': 0, 'clickable': True}, 'datasetID': 2}, 'geometry': {'type': 'Polygon', 'coordinates': [[[145.284761, -20.017232], [145.329714, -20.017312], [145.330401, -20.030054], [145.285018, -20.02836], [145.284761, -20.017232]]]}}, {'type': 'Feature', 'properties': {'style': {'stroke': True, 'color': '#3388ff', 'weight': 4, 'opacity': 0.5, 'fill': True, 'fillColor': None, 'fillOpacity': 0, 'clickable': True}, 'datasetID': 3}, 'geometry': {'type': 'Polygon', 'coordinates': [[[145.33735, -20.008893], [145.349704, -20.008731], [145.350132, -20.021473], [145.337092, -20.020344], [145.33735, -20.008893]]]}}, {'type': 'Feature', 'properties': {'style': {'stroke': True, 'color': '#3388ff', 'weight': 4, 'opacity': 0.5, 'fill': True, 'fillColor': None, 'fillOpacity': 0.2, 'clickable': True, 'zIndexOffset': 2000, 'icon': {'options': {}, '_initHooksCalled': True}, 'repeatMode': False}, 'datasetID': 4}, 'geometry': {'type': 'Point', 'coordinates': [145.311355, -20.012489]}}, {'type': 'Feature', 'properties': {'style': {'stroke': True, 'color': '#3388ff', 'weight': 4, 'opacity': 0.5, 'fill': True, 'fillColor': None, 'fillOpacity': 0, 'clickable': True}, 'datasetID': 5}, 'geometry': {'type': 'Polygon', 'coordinates': [[[145.279699, -20.007634], [145.287763, -20.007957], [145.283131, -20.020296], [145.276182, -20.019409], [145.279699, -20.007634]]]}}]\n",
      "             Point 0   Point 1  Polygon 2  Polygon 3   Point 4  Polygon 5\n",
      "2013-01-01  0.530531  0.520202   0.516565   0.573464 -0.593823  -0.563670\n",
      "2014-01-01  0.478814  0.533894   0.461152   0.533163 -0.538902  -0.528111\n",
      "2015-01-01  0.464559  0.456016   0.408081   0.518300 -0.508100  -0.526664\n",
      "2016-01-01  0.580713  0.602504   0.534638   0.593301 -0.623883  -0.589003\n",
      "2017-01-01  0.599012  0.616071   0.526134   0.600029 -0.634291  -0.586286\n"
     ]
    }
   ],
   "source": [
    "print (ds)\n",
    "print (geoJSONs)\n",
    "print (output_pandas)"
   ]
  },
  {
   "cell_type": "code",
   "execution_count": 6,
   "metadata": {},
   "outputs": [
    {
     "name": "stdout",
     "output_type": "stream",
     "text": [
      "Populating the interactive namespace from numpy and matplotlib\n",
      "The formula we are using is (nir - red)/(nir + red)\n"
     ]
    },
    {
     "data": {
      "application/vnd.jupyter.widget-view+json": {
       "model_id": "bd67c67f639146b3b01492fd6a9a4b3a",
       "version_major": 2,
       "version_minor": 0
      },
      "text/plain": [
       "VBox(children=(ToggleButtons(description='Product:', options=('NDVI', 'GNDVI', 'NDWI', 'NDMI'), tooltips=('Nor…"
      ]
     },
     "metadata": {},
     "output_type": "display_data"
    }
   ],
   "source": [
    "explore_area"
   ]
  }
 ],
 "metadata": {
  "kernelspec": {
   "display_name": "Python 3",
   "language": "python",
   "name": "python3"
  },
  "language_info": {
   "codemirror_mode": {
    "name": "ipython",
    "version": 3
   },
   "file_extension": ".py",
   "mimetype": "text/x-python",
   "name": "python",
   "nbconvert_exporter": "python",
   "pygments_lexer": "ipython3",
   "version": "3.6.5"
  }
 },
 "nbformat": 4,
 "nbformat_minor": 2
}
